{
 "cells": [
  {
   "cell_type": "markdown",
   "metadata": {},
   "source": [
    "# ASSIGNMENT: Optimal Hyperplane\n",
    "To define an optimal hyperplane we need to maximize the width of the margin (w)."
   ]
  },
  {
   "cell_type": "markdown",
   "metadata": {},
   "source": [
    "![OHE](https://www.mathsisfun.com/data/images/least-squares-example.gif)"
   ]
  },
  {
   "cell_type": "markdown",
   "metadata": {},
   "source": [
    "This can be achieved by finding the solution where the sum of the squares of the\n",
    "weights is minimal\n",
    "\n",
    "$$ w_{opt}= arg \\min_{{w}} \\tilde{w}^T \\tilde{w} = arg \\min_{w} \\sum_{j=1}^{M-1}$$\n",
    "\n",
    "where $\\tilde{w} = (w_1, . . . , w_{M−1})$. (this means that in $\\tilde{w}$ the offset $w_0$ is missing);\n",
    "$y_i ∈ \\{−1, 1\\}$"
   ]
  },
  {
   "cell_type": "markdown",
   "metadata": {},
   "source": [
    "* The margin becomes\n",
    "\n",
    "$ C = \\frac{1}{||\\tilde{w}_{opt}||} $\n",
    "\n",
    "* For the support vectors we have,\n",
    "\n",
    "$y_i(x_i^T w_{opt}) =1$"
   ]
  }
 ],
 "metadata": {
  "language_info": {
   "name": "python"
  },
  "orig_nbformat": 4
 },
 "nbformat": 4,
 "nbformat_minor": 2
}
